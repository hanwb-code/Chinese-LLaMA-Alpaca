{
 "cells": [
  {
   "cell_type": "code",
   "execution_count": null,
   "metadata": {
    "colab": {
     "base_uri": "https://localhost:8080/"
    },
    "id": "quRXOPaZwmwz",
    "outputId": "6d9febc4-b0d2-41ee-ce66-9284758e928e"
   },
   "outputs": [],
   "source": [
    "#这一步可以不做,直接使用合并模型目录词表就可以\n",
    "\n",
    "#创建基于原模型扩充词表\n",
    "!cd Chinese-LLaMA-Alpaca/scripts/merge_tokenizer/ && python merge_tokenizers.py \\\n",
    "  --llama_tokenizer_dir /home/llama/llama-dl/llama_7b_hf \\\n",
    "  --chinese_sp_model_file /home/workspace/Chinese-LLaMA-Alpaca/scripts/merge_tokenizer/chinese_sp.model"
   ]
  },
  {
   "cell_type": "code",
   "execution_count": null,
   "outputs": [],
   "source": [],
   "metadata": {
    "collapsed": false
   }
  }
 ],
 "metadata": {
  "accelerator": "GPU",
  "colab": {
   "gpuType": "A100",
   "machine_shape": "hm",
   "provenance": []
  },
  "gpuClass": "standard",
  "kernelspec": {
   "display_name": "Python 3",
   "name": "python3"
  },
  "language_info": {
   "name": "python"
  }
 },
 "nbformat": 4,
 "nbformat_minor": 0
}
