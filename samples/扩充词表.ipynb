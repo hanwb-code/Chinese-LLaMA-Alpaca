{
 "cells": [
  {
   "cell_type": "code",
   "execution_count": null,
   "metadata": {
    "colab": {
     "base_uri": "https://localhost:8080/"
    },
    "id": "quRXOPaZwmwz",
    "outputId": "6d9febc4-b0d2-41ee-ce66-9284758e928e"
   },
   "outputs": [],
   "source": [
    "#创建基于原模型扩充词表\n",
    "!cd Chinese-LLaMA-Alpaca/scripts/merge_tokenizer/ && python merge_tokenizers.py \\\n",
    "  --llama_tokenizer_dir /home/llama/llama-dl/llama_7b_hf \\\n",
    "  --chinese_sp_model_file /home/workspace/Chinese-LLaMA-Alpaca/scripts/merge_tokenizer/chinese_sp.model"
   ]
  },
  {
   "cell_type": "code",
   "execution_count": 1,
   "metadata": {
    "ExecuteTime": {
     "end_time": "2023-07-12T01:04:19.126101Z",
     "start_time": "2023-07-12T01:04:15.762187200Z"
    },
    "collapsed": false
   },
   "outputs": [
    {
     "name": "stdout",
     "output_type": "stream",
     "text": [
      "Requirement already satisfied: sentencepiece in d:\\program files\\python310\\lib\\site-packages (0.1.99)\n"
     ]
    }
   ],
   "source": [
    "!pip install sentencepiece"
   ]
  },
  {
   "cell_type": "code",
   "execution_count": 7,
   "metadata": {
    "ExecuteTime": {
     "end_time": "2023-07-12T01:30:11.377909600Z",
     "start_time": "2023-07-12T01:30:11.283983200Z"
    },
    "collapsed": false
   },
   "outputs": [
    {
     "name": "stdout",
     "output_type": "stream",
     "text": [
      "sentencepiece_trainer.cc(77) LOG(INFO) Starts training with : \n",
      "trainer_spec {\n",
      "  input: ../data/hongloumeng.txt\n",
      "  input_format: \n",
      "  model_prefix: model/hongloumeng/hongluomeng-tokenizer\n",
      "  model_type: BPE\n",
      "  vocab_size: 4000\n",
      "  self_test_sample_size: 0\n",
      "  character_coverage: 0.9995\n",
      "  input_sentence_size: 0\n",
      "  shuffle_input_sentence: 1\n",
      "  seed_sentencepiece_size: 1000000\n",
      "  shrinking_factor: 0.75\n",
      "  max_sentence_length: 4192\n",
      "  num_threads: 16\n",
      "  num_sub_iterations: 2\n",
      "  max_sentencepiece_length: 16\n",
      "  split_by_unicode_script: 1\n",
      "  split_by_number: 1\n",
      "  split_by_whitespace: 1\n",
      "  split_digits: 0\n",
      "  pretokenization_delimiter: \n",
      "  treat_whitespace_as_suffix: 0\n",
      "  allow_whitespace_only_pieces: 0\n",
      "  required_chars: \n",
      "  byte_fallback: 0\n",
      "  vocabulary_output_piece_score: 1\n",
      "  train_extremely_large_corpus: 0\n",
      "  hard_vocab_limit: 1\n",
      "  use_all_vocab: 0\n",
      "  unk_id: 0\n",
      "  bos_id: 1\n",
      "  eos_id: 2\n",
      "  pad_id: -1\n",
      "  unk_piece: <unk>\n",
      "  bos_piece: <s>\n",
      "  eos_piece: </s>\n",
      "  pad_piece: <pad>\n",
      "  unk_surface:  ⁇ \n",
      "  enable_differential_privacy: 0\n",
      "  differential_privacy_noise_level: 0\n",
      "  differential_privacy_clipping_threshold: 0\n",
      "}\n",
      "normalizer_spec {\n",
      "  name: nmt_nfkc\n",
      "  add_dummy_prefix: 1\n",
      "  remove_extra_whitespaces: 1\n",
      "  escape_whitespaces: 1\n",
      "  normalization_rule_tsv: \n",
      "}\n",
      "denormalizer_spec {}\n",
      "trainer_interface.cc(351) LOG(INFO) SentenceIterator is not specified. Using MultiFileSentenceIterator.\n",
      "trainer_interface.cc(183) LOG(INFO) Loading corpus: ../data/hongloumeng.txt\n",
      "trainer_interface.cc(378) LOG(WARNING) Found too long line (4224 > 4192).\n",
      "trainer_interface.cc(380) LOG(WARNING) Too long lines are skipped in the training.\n",
      "trainer_interface.cc(381) LOG(WARNING) The maximum length can be changed with --max_sentence_length=<size> flag.\n",
      "trainer_interface.cc(407) LOG(INFO) Loaded all 3144 sentences\n",
      "trainer_interface.cc(414) LOG(INFO) Skipped 6 too long sentences.\n",
      "trainer_interface.cc(423) LOG(INFO) Adding meta_piece: <unk>\n",
      "trainer_interface.cc(423) LOG(INFO) Adding meta_piece: <s>\n",
      "trainer_interface.cc(423) LOG(INFO) Adding meta_piece: </s>\n",
      "trainer_interface.cc(428) LOG(INFO) Normalizing sentences...\n",
      "trainer_interface.cc(537) LOG(INFO) all chars count=866703\n",
      "trainer_interface.cc(548) LOG(INFO) Done: 99.95% characters are covered.\n",
      "trainer_interface.cc(558) LOG(INFO) Alphabet size=3986\n",
      "trainer_interface.cc(559) LOG(INFO) Final character coverage=0.9995\n",
      "trainer_interface.cc(591) LOG(INFO) Done! preprocessed 3144 sentences.\n",
      "trainer_interface.cc(597) LOG(INFO) Tokenizing input sentences with whitespace: 3144\n",
      "trainer_interface.cc(608) LOG(INFO) Done! 3395\n",
      "bpe_model_trainer.cc(159) LOG(INFO) Updating active symbols. max_freq=10909 min_freq=13\n",
      "trainer_interface.cc(686) LOG(INFO) Saving model: model/hongloumeng/hongluomeng-tokenizer.model\n",
      "trainer_interface.cc(698) LOG(INFO) Saving vocabs: model/hongloumeng/hongluomeng-tokenizer.vocab\n"
     ]
    }
   ],
   "source": [
    "!spm_train --input=../data/hongloumeng.txt --model_prefix=model/hongloumeng/hongluomeng-tokenizer --vocab_size=4000 --character_coverage=0.9995 --model_type=bpe"
   ]
  },
  {
   "cell_type": "code",
   "execution_count": 10,
   "metadata": {},
   "outputs": [
    {
     "name": "stdout",
     "output_type": "stream",
     "text": [
      "▁ 白 日 依 山 尽 , 黄 河 入 海 流 。\n",
      "60 254 70 333 468 400 14 733 1476 317 603 510 15\n"
     ]
    }
   ],
   "source": [
    "#将原始文本编码成句子片段(token)。\n",
    "!echo \"白日依山尽，黄河入海流。\" | spm_encode --model=model/hongloumeng/hongluomeng-tokenizer.model\n",
    "\n",
    "#将句子片段(token) id 解码为原始文本\n",
    "!echo \"白日依山尽，黄河入海流。\" | spm_encode --model=model/hongloumeng/hongluomeng-tokenizer.model --output_format=id"
   ]
  },
  {
   "cell_type": "code",
   "execution_count": null,
   "metadata": {},
   "outputs": [],
   "source": [
    "#基于模型文件导出词汇表。\n",
    "# spm_export_vocab --model=<模型文件> --output=<输出文件>\n",
    "\n",
    "!spm_export_vocab --model=model/hongloumeng/hongluomeng-tokenizer.model --output=model/hongloumeng/hongluomeng.vocab"
   ]
  },
  {
   "cell_type": "code",
   "execution_count": null,
   "metadata": {},
   "outputs": [],
   "source": [
    "import sentencepiece as spm\n",
    "\n",
    "sp = spm.SentencePieceProcessor()\n",
    "\n",
    "text=\"这贾雨村原系胡州人氏，也是诗书仕宦之族，因他生于末世，父母祖宗根基已尽，人口衰丧，只剩得他一身一口，在家乡无益，因进京求取功名，再整基业。\"\n",
    "\n",
    "sp.Load(\"model/hongloumeng/hongluomeng-tokenizer.model\")\n",
    "\n",
    "print(sp.EncodeAsPieces(text))\n"
   ]
  }
 ],
 "metadata": {
  "accelerator": "GPU",
  "colab": {
   "gpuType": "A100",
   "machine_shape": "hm",
   "provenance": []
  },
  "gpuClass": "standard",
  "kernelspec": {
   "display_name": "Python 3 (ipykernel)",
   "language": "python",
   "name": "python3"
  },
  "language_info": {
   "codemirror_mode": {
    "name": "ipython",
    "version": 3
   },
   "file_extension": ".py",
   "mimetype": "text/x-python",
   "name": "python",
   "nbconvert_exporter": "python",
   "pygments_lexer": "ipython3",
   "version": "3.9.2"
  }
 },
 "nbformat": 4,
 "nbformat_minor": 0
}
