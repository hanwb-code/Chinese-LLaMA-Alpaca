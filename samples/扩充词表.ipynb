{
 "cells": [
  {
   "cell_type": "code",
   "execution_count": null,
   "metadata": {
    "colab": {
     "base_uri": "https://localhost:8080/"
    },
    "id": "quRXOPaZwmwz",
    "outputId": "6d9febc4-b0d2-41ee-ce66-9284758e928e"
   },
   "outputs": [],
   "source": [
    "#创建基于原模型扩充词表\n",
    "!cd Chinese-LLaMA-Alpaca/scripts/merge_tokenizer/ && python merge_tokenizers.py \\\n",
    "  --llama_tokenizer_dir /home/llama/llama-dl/llama_7b_hf \\\n",
    "  --chinese_sp_model_file /home/workspace/Chinese-LLaMA-Alpaca/scripts/merge_tokenizer/chinese_sp.model"
   ]
  },
  {
   "cell_type": "code",
   "execution_count": 1,
   "outputs": [
    {
     "name": "stdout",
     "output_type": "stream",
     "text": [
      "Requirement already satisfied: sentencepiece in d:\\program files\\python310\\lib\\site-packages (0.1.99)\n"
     ]
    }
   ],
   "source": [
    "!pip install sentencepiece"
   ],
   "metadata": {
    "collapsed": false,
    "ExecuteTime": {
     "end_time": "2023-07-12T01:04:19.126101Z",
     "start_time": "2023-07-12T01:04:15.762187200Z"
    }
   }
  },
  {
   "cell_type": "code",
   "execution_count": 4,
   "outputs": [
    {
     "name": "stderr",
     "output_type": "stream",
     "text": [
      "'spm_train' is not recognized as an internal or external command,\n",
      "operable program or batch file.\n"
     ]
    }
   ],
   "source": [
    "!spm_train --input=D:\\gitlab\\gpt\\Chinese-LLaMA-Alpaca\\data\\红楼梦.txt --model_prefix=model/book/hongluomeng-tokenizer --vocab_size=4000 --character_coverage=0.9995 --model_type=bpe"
   ],
   "metadata": {
    "collapsed": false,
    "ExecuteTime": {
     "end_time": "2023-07-12T01:30:11.377909600Z",
     "start_time": "2023-07-12T01:30:11.283983200Z"
    }
   }
  },
  {
   "cell_type": "code",
   "execution_count": 3,
   "outputs": [],
   "source": [],
   "metadata": {
    "collapsed": false,
    "ExecuteTime": {
     "end_time": "2023-07-12T01:30:05.824431300Z",
     "start_time": "2023-07-12T01:30:05.824431300Z"
    }
   }
  },
  {
   "cell_type": "code",
   "execution_count": null,
   "outputs": [],
   "source": [],
   "metadata": {
    "collapsed": false
   }
  }
 ],
 "metadata": {
  "accelerator": "GPU",
  "colab": {
   "gpuType": "A100",
   "machine_shape": "hm",
   "provenance": []
  },
  "gpuClass": "standard",
  "kernelspec": {
   "name": "python3",
   "language": "python",
   "display_name": "Python 3 (ipykernel)"
  },
  "language_info": {
   "name": "python"
  }
 },
 "nbformat": 4,
 "nbformat_minor": 0
}
